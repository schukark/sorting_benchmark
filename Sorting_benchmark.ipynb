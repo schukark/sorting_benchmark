{
  "nbformat": 4,
  "nbformat_minor": 0,
  "metadata": {
    "colab": {
      "provenance": []
    },
    "kernelspec": {
      "name": "python3",
      "display_name": "Python 3"
    },
    "language_info": {
      "name": "python"
    }
  },
  "cells": [
    {
      "cell_type": "code",
      "source": [
        "import pandas as pd\n",
        "import matplotlib.pyplot as plt\n",
        "import math\n",
        "import numpy as np"
      ],
      "metadata": {
        "id": "tM9FAssQ142r"
      },
      "execution_count": 1,
      "outputs": []
    },
    {
      "cell_type": "code",
      "source": [
        "sort_file = open(\"Int_Insertion sort.txt\", 'r')\n",
        "points_python = []\n",
        "\n",
        "for line in sort_file:\n",
        "    array = line.split()\n",
        "    if (array[1] != \">5s\"):\n",
        "        points_python.append([int(array[0][2:]), int(array[1])])\n",
        "\n",
        "points = np.array(points_python)\n",
        "x = points[:, 0]\n",
        "y = points[:, 1]\n",
        "\n",
        "z = np.polyfit(x, y, 3)\n",
        "\n",
        "display(z)\n",
        "f = np.poly1d(z)\n",
        "\n",
        "x_new = np.linspace(x[0], x[-1], 10000)\n",
        "y_new = f(x_new)\n",
        "\n",
        "plt.plot(x, y, 'o', x_new, y_new)\n",
        "plt.xlim([x[0] - 1, x[-1] + 1])\n",
        "plt.show()"
      ],
      "metadata": {
        "colab": {
          "base_uri": "https://localhost:8080/",
          "height": 462
        },
        "id": "PzmK-WjDpBGf",
        "outputId": "ffdc1dda-6e64-4eb1-b94e-18ca50fc90e4"
      },
      "execution_count": 21,
      "outputs": [
        {
          "output_type": "display_data",
          "data": {
            "text/plain": [
              "array([-1.26257749e-07,  3.06420011e-01,  8.80135475e+01, -3.35601736e+04])"
            ]
          },
          "metadata": {}
        },
        {
          "output_type": "display_data",
          "data": {
            "text/plain": [
              "<Figure size 640x480 with 1 Axes>"
            ],
            "image/png": "[encoded data removed]"
          },
          "metadata": {}
        }
      ]
    },
    {
      "cell_type": "code",
      "source": [
        "sort_file = open(\"Int_Skip list sort.txt\", 'r')\n",
        "points_python = []\n",
        "\n",
        "for line in sort_file:\n",
        "    array = line.split()\n",
        "    if (array[1] != \">5s\"):\n",
        "        points_python.append([int(array[0][2:]), int(array[1])])\n",
        "\n",
        "points = np.array(points_python)\n",
        "x = points[:, 0]\n",
        "y = points[:, 1]\n",
        "\n",
        "print(\"| N | Time taken|\")\n",
        "print(\"| -- | -- |\")\n",
        "\n",
        "for point in points:\n",
        "    time = point[1]\n",
        "    if (time < 1000):\n",
        "        time = str(time) + \"ns\"\n",
        "    elif time < 1_000_000:\n",
        "        time = str(round(time / 1000, 2)) + \"mcs\"\n",
        "    elif time < 1_000_000_000:\n",
        "        time = str(round(time / 10 ** 6, 2)) + \"ms\"\n",
        "    else:\n",
        "        time = str(round(time / 10 ** 9, 2)) + \"s\"\n",
        "    print(f\"| {point[0]} | {time} |\")\n"
      ],
      "metadata": {
        "colab": {
          "base_uri": "https://localhost:8080/"
        },
        "id": "kCWx6mcHvSWh",
        "outputId": "fd009e8a-e52c-44f1-d663-ea29b47977d8"
      },
      "execution_count": 26,
      "outputs": [
        {
          "output_type": "stream",
          "name": "stdout",
          "text": [
            "| N | Time taken|\n",
            "| -- | -- |\n",
            "| 10 | 46.8mcs |\n",
            "| 30 | 108.7mcs |\n",
            "| 100 | 318.5mcs |\n",
            "| 300 | 1.01ms |\n",
            "| 1000 | 3.6ms |\n",
            "| 3000 | 10.95ms |\n",
            "| 10000 | 51.49ms |\n",
            "| 30000 | 169.16ms |\n",
            "| 100000 | 1.3s |\n",
            "| 300000 | 2.44s |\n"
          ]
        }
      ]
    },
    {
      "cell_type": "code",
      "source": [
        "def time_convert(time):\n",
        "    if (time < 1000):\n",
        "        time = str(time) + \"ns\"\n",
        "    elif time < 1_000_000:\n",
        "        time = str(round(time / 1000, 2)) + \"mcs\"\n",
        "    elif time < 1_000_000_000:\n",
        "        time = str(round(time / 10 ** 6, 2)) + \"ms\"\n",
        "    else:\n",
        "        time = str(round(time / 10 ** 9, 2)) + \"s\"\n",
        "    return time"
      ],
      "metadata": {
        "id": "ve-JUgLLDevj"
      },
      "execution_count": 25,
      "outputs": []
    },
    {
      "cell_type": "code",
      "source": [
        "lengths = [10, 30, 100, 300, 1000, 3000, 10000]\n",
        "strings = [1, 10, 100, 1000, 10000]\n",
        "\n",
        "simple = open(\"String_Insertion sort.txt\")\n",
        "binary = open(\"String_Binary insertion sort.txt\")\n",
        "\n",
        "array1 = [[0 for j in range(len(strings))] for i in range(len(lengths))]\n",
        "array2 = [[0 for j in range(len(strings))] for i in range(len(lengths))]\n",
        "\n",
        "for lines in simple:\n",
        "    line_split = lines.split()\n",
        "    n = int(line_split[1])\n",
        "    m = int(line_split[3][:-1])\n",
        "    time = int(line_split[-1])\n",
        "\n",
        "    array1[lengths.index(n)][strings.index(m)] = time\n",
        "\n",
        "for lines in binary:\n",
        "    line_split = lines.split()\n",
        "    n = int(line_split[1])\n",
        "    m = int(line_split[3][:-1])\n",
        "    time = int(line_split[-1])\n",
        "\n",
        "    array2[lengths.index(n)][strings.index(m)] = time\n",
        "\n",
        "array3 = [[round(array2[i][j] * 1.0 / array1[i][j], 2) for j in range(len(strings))] for i in range(len(lengths))]\n",
        "\n",
        "print(\"|N\\ M|\", end='')\n",
        "for size in strings:\n",
        "    print(size, end='|')\n",
        "\n",
        "print(\"\\n|--|\", end='')\n",
        "for size in strings:\n",
        "    print(\"--|\", end='')\n",
        "print()\n",
        "\n",
        "for index, line in enumerate(array2):\n",
        "    print(f\"|{lengths[index]}|\", end='')\n",
        "    for elem in line:\n",
        "        print('{0: >5}|'.format(time_convert(elem)), end=' ')\n",
        "    print()"
      ],
      "metadata": {
        "colab": {
          "base_uri": "https://localhost:8080/"
        },
        "id": "AczaYGPiAskI",
        "outputId": "49572016-3ced-49e2-b36e-f6c1584ab057"
      },
      "execution_count": 27,
      "outputs": [
        {
          "output_type": "stream",
          "name": "stdout",
          "text": [
            "|N\\ M|1|10|100|1000|10000|\n",
            "|--|--|--|--|--|--|\n",
            "|10|1.1mcs| 1.3mcs| 6.0mcs| 7.0mcs| 55.7mcs| \n",
            "|30|5.8mcs| 5.7mcs| 20.4mcs| 24.5mcs| 141.8mcs| \n",
            "|100|41.6mcs| 40.2mcs| 89.4mcs| 98.8mcs| 663.8mcs| \n",
            "|300|330.9mcs| 285.5mcs| 356.2mcs| 366.0mcs| 1.83ms| \n",
            "|1000|3.25ms| 2.99ms| 2.05ms| 2.11ms| 6.82ms| \n",
            "|3000|27.14ms| 23.65ms| 12.65ms| 13.06ms| 25.0ms| \n",
            "|10000|297.0ms| 254.64ms| 119.74ms| 122.93ms| 147.67ms| \n"
          ]
        }
      ]
    },
    {
      "cell_type": "code",
      "source": [
        "def plot_and_get_info(sort_name):\n",
        "    sort_file = open(\"Int_\" + sort_name + \" sort.txt\", 'r')\n",
        "    points_python = []\n",
        "\n",
        "    for line in sort_file:\n",
        "        array = line.split()\n",
        "        if (array[1] != \">5s\" and int(array[0][2:]) <= 100000):\n",
        "            points_python.append([int(array[0][2:]), int(array[1])])\n",
        "\n",
        "    points = np.array(points_python)\n",
        "    x = points[:, 0]\n",
        "    y = points[:, 1]\n",
        "\n",
        "    z = np.polyfit(np.log2(x) * x, y, 2)\n",
        "    if (sort_name == \"Insertion\"):\n",
        "        z = np.polyfit(x ** 2, y, 2)\n",
        "\n",
        "    display(z)\n",
        "    f = np.poly1d(z)\n",
        "\n",
        "    x_new = np.linspace(x[0], x[-1], 10000)\n",
        "    y_new = f(x_new * np.log2(x_new))\n",
        "\n",
        "    if (sort_name == \"Insertion\"):\n",
        "        y_new = f(x_new ** 2)\n",
        "\n",
        "    plt.plot(x, y, 'o', x_new, y_new, label=sort_name + \" sort\")\n",
        "    plt.xlim([x[0] - 1, x[-1] + 1])\n",
        "    return points\n",
        "\n",
        "array = []\n",
        "for sort_name in [\"Insertion\", \"Merge\"]:\n",
        "    array.append(plot_and_get_info(sort_name))\n",
        "\n",
        "plt.legend()\n",
        "plt.show()\n",
        "array"
      ],
      "metadata": {
        "colab": {
          "base_uri": "https://localhost:8080/",
          "height": 792
        },
        "id": "PHXCx3-sF483",
        "outputId": "a415bec0-411e-4d63-c36c-465a28f2a21e"
      },
      "execution_count": 16,
      "outputs": [
        {
          "output_type": "display_data",
          "data": {
            "text/plain": [
              "array([-1.18882409e-12,  3.06547327e-01,  1.18857012e+05])"
            ]
          },
          "metadata": {}
        },
        {
          "output_type": "display_data",
          "data": {
            "text/plain": [
              "array([-6.79026373e-06,  7.27700554e+01,  1.70086528e+05])"
            ]
          },
          "metadata": {}
        },
        {
          "output_type": "display_data",
          "data": {
            "text/plain": [
              "<Figure size 640x480 with 1 Axes>"
            ],
            "image/png": "[encoded data removed]"
          },
          "metadata": {}
        },
        {
          "output_type": "execute_result",
          "data": {
            "text/plain": [
              "[array([[        10,        200],\n",
              "        [        30,        600],\n",
              "        [       100,       5100],\n",
              "        [       300,      31100],\n",
              "        [      1000,     360400],\n",
              "        [      3000,    2820800],\n",
              "        [     10000,   31432800],\n",
              "        [     30000,  274968100],\n",
              "        [    100000, 2946710300]]),\n",
              " array([[       10,      9000],\n",
              "        [       30,     28900],\n",
              "        [      100,     84600],\n",
              "        [      300,    291200],\n",
              "        [     1000,    935400],\n",
              "        [     3000,   2936100],\n",
              "        [    10000,  10090100],\n",
              "        [    30000,  31121400],\n",
              "        [   100000, 102315000]])]"
            ]
          },
          "metadata": {},
          "execution_count": 16
        }
      ]
    },
    {
      "cell_type": "code",
      "source": [
        "print(\"| N | Insertion sort | Merge sort |\")\n",
        "print(\"| -- | -- | -- |\")\n",
        "\n",
        "for line_index in range(len(array[0])):\n",
        "    print(f\"| {array[0][line_index][0]} |\", end='')\n",
        "    for sort_index in range(len(array)):\n",
        "        time = array[sort_index][line_index][1]\n",
        "        if (time < 1000):\n",
        "            time = str(time) + \"ns\"\n",
        "        elif time < 1_000_000:\n",
        "            time = str(round(time / 1000, 2)) + \"mcs\"\n",
        "        elif time < 1_000_000_000:\n",
        "            time = str(round(time / 10 ** 6, 2)) + \"ms\"\n",
        "        else:\n",
        "            time = str(round(time / 10 ** 9, 2)) + \"s\"\n",
        "        print(f\" {time} |\", end='')\n",
        "    print()"
      ],
      "metadata": {
        "colab": {
          "base_uri": "https://localhost:8080/"
        },
        "id": "vNkx4KmbH8Nk",
        "outputId": "ede4921f-3144-451c-fb4b-dcada0526429"
      },
      "execution_count": 13,
      "outputs": [
        {
          "output_type": "stream",
          "name": "stdout",
          "text": [
            "| N | Insertion sort | Merge sort |\n",
            "| -- | -- | -- |\n",
            "| 10 | 200ns | 9.0mcs |\n",
            "| 30 | 600ns | 28.9mcs |\n",
            "| 100 | 5.1mcs | 84.6mcs |\n",
            "| 300 | 31.1mcs | 291.2mcs |\n",
            "| 1000 | 360.4mcs | 935.4mcs |\n",
            "| 3000 | 2.82ms | 2.94ms |\n",
            "| 10000 | 31.43ms | 10.09ms |\n",
            "| 30000 | 274.97ms | 31.12ms |\n",
            "| 100000 | 2.95s | 102.32ms |\n"
          ]
        }
      ]
    }
  ]
}